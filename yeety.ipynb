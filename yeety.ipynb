{
 "cells": [
  {
   "cell_type": "markdown",
   "metadata": {},
   "source": [
    "## This is a sandbox/testing file, don't mind it, or just go ahead and play with it"
   ]
  },
  {
   "cell_type": "code",
   "execution_count": 81,
   "metadata": {},
   "outputs": [],
   "source": [
    "\n",
    "import colorsys as cs\n",
    "from IPython.display import Markdown, display\n",
    "import math"
   ]
  },
  {
   "cell_type": "code",
   "execution_count": 82,
   "metadata": {},
   "outputs": [],
   "source": [
    "colors = [\n",
    "    (249, 204, 178),\n",
    "    (219, 213, 210),\n",
    "    (255, 0, 0),\n",
    "    (255, 255, 255),\n",
    "    (0, 0, 0)\n",
    "]"
   ]
  },
  {
   "cell_type": "code",
   "execution_count": 83,
   "metadata": {},
   "outputs": [],
   "source": [
    "def colorfulness(color):\n",
    "    h, s, v = cs.rgb_to_hsv(color[0], color[1], color[2])\n",
    "    \n",
    "    return math.sqrt(pow(s, 2) + pow(v, 2))"
   ]
  },
  {
   "cell_type": "code",
   "execution_count": 84,
   "metadata": {},
   "outputs": [
    {
     "data": {
      "text/markdown": [
       "<span style=\"font-family: monospace\">(249, 204, 178) <span style=\"color: #f9ccb2\">███</span> 249.00016326328029</span>"
      ],
      "text/plain": [
       "<IPython.core.display.Markdown object>"
      ]
     },
     "metadata": {},
     "output_type": "display_data"
    },
    {
     "data": {
      "text/markdown": [
       "<span style=\"font-family: monospace\">(219, 213, 210) <span style=\"color: #dbd5d2\">███</span> 219.0000038558726</span>"
      ],
      "text/plain": [
       "<IPython.core.display.Markdown object>"
      ]
     },
     "metadata": {},
     "output_type": "display_data"
    },
    {
     "data": {
      "text/markdown": [
       "<span style=\"font-family: monospace\">(255, 0, 0) <span style=\"color: #ff0000\">███</span> 255.0019607767752</span>"
      ],
      "text/plain": [
       "<IPython.core.display.Markdown object>"
      ]
     },
     "metadata": {},
     "output_type": "display_data"
    },
    {
     "data": {
      "text/markdown": [
       "<span style=\"font-family: monospace\">(255, 255, 255) <span style=\"color: #ffffff\">███</span> 255.0</span>"
      ],
      "text/plain": [
       "<IPython.core.display.Markdown object>"
      ]
     },
     "metadata": {},
     "output_type": "display_data"
    },
    {
     "data": {
      "text/markdown": [
       "<span style=\"font-family: monospace\">(0, 0, 0) <span style=\"color: #000000\">███</span> 0.0</span>"
      ],
      "text/plain": [
       "<IPython.core.display.Markdown object>"
      ]
     },
     "metadata": {},
     "output_type": "display_data"
    }
   ],
   "source": [
    "for color in colors:\n",
    "    display(Markdown(f'<span style=\"font-family: monospace\">{color} <span style=\"color: {\"#%02x%02x%02x\" % color}\">███</span> {colorfulness(color)}</span>'))"
   ]
  }
 ],
 "metadata": {
  "kernelspec": {
   "display_name": "Python 3.10.6 ('yeet': venv)",
   "language": "python",
   "name": "python3"
  },
  "language_info": {
   "codemirror_mode": {
    "name": "ipython",
    "version": 3
   },
   "file_extension": ".py",
   "mimetype": "text/x-python",
   "name": "python",
   "nbconvert_exporter": "python",
   "pygments_lexer": "ipython3",
   "version": "3.10.6"
  },
  "orig_nbformat": 4,
  "vscode": {
   "interpreter": {
    "hash": "43fc5295f17a3bb2187a9337ca4786a5951c982b23cfed30dc78d935d6ec717a"
   }
  }
 },
 "nbformat": 4,
 "nbformat_minor": 2
}
